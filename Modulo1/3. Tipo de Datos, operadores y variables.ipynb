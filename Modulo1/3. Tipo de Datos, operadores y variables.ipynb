{
 "cells": [
  {
   "cell_type": "markdown",
   "metadata": {},
   "source": [
    "# VARIABLES, TIPOS DE DATOS SIMPLES Y OPERADORES"
   ]
  },
  {
   "cell_type": "markdown",
   "metadata": {},
   "source": [
    "En programación este apartado aprenderas a utilizar los diferentes tipos de datos que se encuentran disponibles en python, asi como declarar variables y realizar operaciones."
   ]
  },
  {
   "cell_type": "markdown",
   "metadata": {},
   "source": [
    "## 1. Variables"
   ]
  },
  {
   "cell_type": "markdown",
   "metadata": {},
   "source": [
    "Una variable es un identificador que representa un espacio en la memoria. A este espacio se le puede asignar un valor para utilizarlo posteriormente como si se tratase de un valor literal, incluso se puede operar con otras variables y reasignarle otro valor en cualquier momento.\n",
    "\n"
   ]
  },
  {
   "cell_type": "markdown",
   "metadata": {},
   "source": [
    "**La variable me permite almacenar en la memoria de la computadora un valor (numero, texto, etc)**"
   ]
  },
  {
   "cell_type": "markdown",
   "metadata": {},
   "source": [
    "<center><img src=\"https://yosoy.dev/wp-content/uploads/2014/08/variables-en-programacion.png\" ></center>"
   ]
  },
  {
   "cell_type": "markdown",
   "metadata": {},
   "source": [
    "#### 1.1 Declaración de variables en otros lenguajes"
   ]
  },
  {
   "cell_type": "markdown",
   "metadata": {},
   "source": [
    "1. Se declara la variable con su tipo de dato\n",
    "2. Se asigna un valor a la variable"
   ]
  },
  {
   "cell_type": "markdown",
   "metadata": {},
   "source": [
    "<img src='https://www.w3schools.in/wp-content/uploads/2015/03/Declaration-and-assignment-statements.png'  align='left' width=\"600\" height=\"400\" >"
   ]
  },
  {
   "cell_type": "markdown",
   "metadata": {},
   "source": [
    "#### 1.2 Declaración de variables en Python"
   ]
  },
  {
   "cell_type": "markdown",
   "metadata": {},
   "source": [
    "1. Se asigna un valor a una variable (no es necesario declarar tipo de dato)\n",
    "2. Python por defecto interpreta el tipo de dato según el valor recibido"
   ]
  },
  {
   "cell_type": "code",
   "execution_count": 1,
   "metadata": {},
   "outputs": [
    {
     "name": "stdout",
     "output_type": "stream",
     "text": [
      "Hola Mundo\n"
     ]
    }
   ],
   "source": [
    "## 1. Declaremos una variable para mejorar que nos ayude a enviar un mensaje al usuario\n",
    "print('Hola Mundo')"
   ]
  },
  {
   "cell_type": "code",
   "execution_count": 4,
   "metadata": {},
   "outputs": [
    {
     "name": "stdout",
     "output_type": "stream",
     "text": [
      "Hola a todos\n"
     ]
    },
    {
     "data": {
      "text/plain": [
       "14"
      ]
     },
     "execution_count": 4,
     "metadata": {},
     "output_type": "execute_result"
    }
   ],
   "source": [
    "## 2. Declarando una variable, la cual contiene un texto\n",
    "variable = \"Hola a todos\"\n",
    "print(variable)\n",
    "\n",
    "6+8"
   ]
  },
  {
   "cell_type": "code",
   "execution_count": 5,
   "metadata": {},
   "outputs": [
    {
     "data": {
      "text/plain": [
       "'Hola a todos'"
      ]
     },
     "execution_count": 5,
     "metadata": {},
     "output_type": "execute_result"
    }
   ],
   "source": [
    "variable"
   ]
  },
  {
   "cell_type": "markdown",
   "metadata": {},
   "source": [
    "### Ejercicio"
   ]
  },
  {
   "cell_type": "markdown",
   "metadata": {},
   "source": [
    "Cree una variable llamada <code>msg</code> la cual almacene un mensaje. Luego imprima dicho mensaje"
   ]
  },
  {
   "cell_type": "code",
   "execution_count": 5,
   "metadata": {},
   "outputs": [
    {
     "name": "stdout",
     "output_type": "stream",
     "text": [
      "Bienvenido aquí\n"
     ]
    }
   ],
   "source": [
    "msg = \"Bienvenido aquí\"\n",
    "print(msg)"
   ]
  },
  {
   "cell_type": "markdown",
   "metadata": {},
   "source": [
    "## Reglas para Nombres de Variables en Python\n",
    "\n",
    "1. **Sensibles a Mayúsculas y Minúsculas:**\n",
    "   - `miVariable` y `mivariable` son consideradas diferentes.\n",
    "\n",
    "2. **Caracteres Permitidos:**\n",
    "   - Pueden contener letras (mayúsculas o minúsculas), números y guiones bajos (_).\n",
    "   - No pueden empezar con un número.\n",
    "\n",
    "3. **Evitar Palabras Reservadas:**\n",
    "   - No uses palabras reservadas del lenguaje como nombres de variables.\n",
    "\n",
    "4. **Descriptivas y Significativas:**\n",
    "   - Elige nombres que describan el propósito o contenido de la variable.\n",
    "\n",
    "5. **Evitar Caracteres Especiales:**\n",
    "   - Evita el uso de caracteres especiales como !, @, #, $, %, etc.\n",
    "\n",
    "6. **Convención Snake Case:**\n",
    "   - Para nombres compuestos, usa snake_case (palabras en minúsculas separadas por guiones bajos).\n",
    "\n",
    "Ejemplos válidos:\n",
    "```python\n",
    "mi_variable = 42\n",
    "nombre_usuario = \"JohnDoe\"\n",
    "contador_intentos = 0\n"
   ]
  },
  {
   "cell_type": "markdown",
   "metadata": {},
   "source": [
    "## 2. Tipo de Datos"
   ]
  },
  {
   "cell_type": "markdown",
   "metadata": {},
   "source": [
    "En la programación todo se resume a datos que representan información. Dicha información en terminos simples la podemos ver como:\n",
    "- Cadenas de texto o strings\n",
    "- Números\n",
    "- fechas\n",
    "- imágenes\n",
    "- sonidos\n",
    "- vídeos\n",
    "- Etc."
   ]
  },
  {
   "cell_type": "markdown",
   "metadata": {},
   "source": [
    "<img src='https://blog.hubspot.es/hubfs/media/tiposdatospython.png' align='left' width=\"600\" height=\"600\">"
   ]
  },
  {
   "cell_type": "markdown",
   "metadata": {},
   "source": [
    "### 2.2 Tipo de Dato texto"
   ]
  },
  {
   "cell_type": "markdown",
   "metadata": {},
   "source": [
    "Inmediatamente después de los números hay que echar un vistazo a las cadenas de texto, a fin de cuentas es la forma como las personas nos comunicamos de forma escrita. Las letras o caracteres son en definitiva símbolos de escritura y otro tipo de dato esencial.\n",
    "\n",
    "Siempre se definen entre comillas simples o dobles:"
   ]
  },
  {
   "cell_type": "code",
   "execution_count": 6,
   "metadata": {},
   "outputs": [
    {
     "data": {
      "text/plain": [
       "'Esta es una cadena de texto'"
      ]
     },
     "execution_count": 6,
     "metadata": {},
     "output_type": "execute_result"
    }
   ],
   "source": [
    "# Usando comillas simples\n",
    "'Esta es una cadena de texto'"
   ]
  },
  {
   "cell_type": "code",
   "execution_count": 7,
   "metadata": {},
   "outputs": [
    {
     "ename": "SyntaxError",
     "evalue": "invalid syntax (3525874809.py, line 1)",
     "output_type": "error",
     "traceback": [
      "\u001b[0;36m  Cell \u001b[0;32mIn[7], line 1\u001b[0;36m\u001b[0m\n\u001b[0;31m    'I'ts fine'\u001b[0m\n\u001b[0m       ^\u001b[0m\n\u001b[0;31mSyntaxError\u001b[0m\u001b[0;31m:\u001b[0m invalid syntax\n"
     ]
    }
   ],
   "source": [
    "'I'ts fine'"
   ]
  },
  {
   "cell_type": "code",
   "execution_count": 8,
   "metadata": {},
   "outputs": [
    {
     "data": {
      "text/plain": [
       "\"it's fine\""
      ]
     },
     "execution_count": 8,
     "metadata": {},
     "output_type": "execute_result"
    }
   ],
   "source": [
    "\"it's fine\""
   ]
  },
  {
   "cell_type": "code",
   "execution_count": 9,
   "metadata": {},
   "outputs": [
    {
     "data": {
      "text/plain": [
       "\"Esta' es otra cadena de texto\""
      ]
     },
     "execution_count": 9,
     "metadata": {},
     "output_type": "execute_result"
    }
   ],
   "source": [
    "# Cadena usando comillas dobles\n",
    "\"Esta' es otra cadena de texto\""
   ]
  },
  {
   "cell_type": "code",
   "execution_count": 10,
   "metadata": {},
   "outputs": [
    {
     "ename": "SyntaxError",
     "evalue": "EOL while scanning string literal (4097746427.py, line 1)",
     "output_type": "error",
     "traceback": [
      "\u001b[0;36m  Cell \u001b[0;32mIn[10], line 1\u001b[0;36m\u001b[0m\n\u001b[0;31m    \"Hola\u001b[0m\n\u001b[0m         ^\u001b[0m\n\u001b[0;31mSyntaxError\u001b[0m\u001b[0;31m:\u001b[0m EOL while scanning string literal\n"
     ]
    }
   ],
   "source": [
    "\"Hola\n",
    "como estas\""
   ]
  },
  {
   "cell_type": "code",
   "execution_count": 32,
   "metadata": {},
   "outputs": [
    {
     "name": "stdout",
     "output_type": "stream",
     "text": [
      "\n",
      "Esta cadena\ttiene más de una línea\n",
      "por lo que se usa\n",
      "3 comillas dobles\n",
      "dasdas\n",
      "\n"
     ]
    }
   ],
   "source": [
    "# Cadena de más de una linea \n",
    "\n",
    "# \\n -> representa salto de linea\n",
    "# \\t -> representa tab\n",
    "\n",
    "# Comentario -> es una breve nota que se coloca \n",
    "#               Nos ayuda a tener más clara la lógica que se esta siguiendo\n",
    "msg = \"\"\"\n",
    "Esta cadena\\ttiene más de una línea\n",
    "por lo que se usa\n",
    "3 comillas dobles\n",
    "dasdas\n",
    "\"\"\"\n",
    "print(msg) # imprimo variable en jupyter"
   ]
  },
  {
   "cell_type": "code",
   "execution_count": 33,
   "metadata": {},
   "outputs": [
    {
     "data": {
      "text/plain": [
       "'\\nEsta cadena\\ttiene más de una línea\\npor lo que se usa\\n3 comillas dobles\\ndasdas\\n'"
      ]
     },
     "execution_count": 33,
     "metadata": {},
     "output_type": "execute_result"
    }
   ],
   "source": [
    "msg"
   ]
  },
  {
   "cell_type": "code",
   "execution_count": 34,
   "metadata": {},
   "outputs": [
    {
     "data": {
      "text/plain": [
       "'Este es un\\ntexto \\t Hola'"
      ]
     },
     "execution_count": 34,
     "metadata": {},
     "output_type": "execute_result"
    }
   ],
   "source": [
    "texto = 'Este es un\\ntexto \\t Hola' # alt + 92 = \\\n",
    "texto"
   ]
  },
  {
   "cell_type": "code",
   "execution_count": 35,
   "metadata": {},
   "outputs": [
    {
     "name": "stdout",
     "output_type": "stream",
     "text": [
      "Este es un\n",
      "texto \t Hola\n"
     ]
    }
   ],
   "source": [
    "print(texto)"
   ]
  },
  {
   "cell_type": "markdown",
   "metadata": {},
   "source": [
    "- Almacenando cadenas en variables"
   ]
  },
  {
   "cell_type": "code",
   "execution_count": 3,
   "metadata": {},
   "outputs": [],
   "source": [
    "# Recuerda que podemos utilizar variables para almacenar una cadena de texto\n",
    "texto = \"Este es un texto\""
   ]
  },
  {
   "cell_type": "code",
   "execution_count": 15,
   "metadata": {},
   "outputs": [
    {
     "data": {
      "text/plain": [
       "str"
      ]
     },
     "execution_count": 15,
     "metadata": {},
     "output_type": "execute_result"
    }
   ],
   "source": [
    "type(texto) # str -> string (cadena de texto)"
   ]
  },
  {
   "cell_type": "markdown",
   "metadata": {},
   "source": [
    "#### Algunas Operaciones Basicas de Cadena"
   ]
  },
  {
   "cell_type": "markdown",
   "metadata": {},
   "source": [
    "Una vez que ya conocemos que es una cadena veamos algunas operaciones básicas con las cadenas de texto"
   ]
  },
  {
   "cell_type": "code",
   "execution_count": 17,
   "metadata": {},
   "outputs": [],
   "source": [
    "cad1 = \"Hola\"\n",
    "cad2 = \"Mundo\""
   ]
  },
  {
   "cell_type": "code",
   "execution_count": 5,
   "metadata": {},
   "outputs": [
    {
     "name": "stdout",
     "output_type": "stream",
     "text": [
      "Un divertido programa de radio\n",
      "Un divertido programa\n"
     ]
    }
   ],
   "source": [
    "## Concadenar dos cadenas de texto\n",
    "\n",
    "print(\"Un divertido \"+\"programa \"+\"de \"+ \"radio\")\n",
    "\n",
    "## Usando variables\n",
    "# Esto es igual a : \"HolaMundo\"\n",
    "cad1 = \"Un divertido \"\n",
    "cad2 = \"programa\"\n",
    "\n",
    "print(cad1 + cad2)"
   ]
  },
  {
   "cell_type": "code",
   "execution_count": 6,
   "metadata": {},
   "outputs": [
    {
     "name": "stdout",
     "output_type": "stream",
     "text": [
      "Un divertido  programa\n"
     ]
    }
   ],
   "source": [
    "print(cad1 , cad2)"
   ]
  },
  {
   "cell_type": "code",
   "execution_count": 7,
   "metadata": {},
   "outputs": [
    {
     "name": "stdout",
     "output_type": "stream",
     "text": [
      "Hola\n",
      "HolaHolaHola\n"
     ]
    }
   ],
   "source": [
    "## Multiplicar una cadena \n",
    "print('Hola')\n",
    "print('Hola'*3)"
   ]
  },
  {
   "cell_type": "code",
   "execution_count": 8,
   "metadata": {},
   "outputs": [
    {
     "data": {
      "text/plain": [
       "''"
      ]
     },
     "execution_count": 8,
     "metadata": {},
     "output_type": "execute_result"
    }
   ],
   "source": [
    "'hola'*0"
   ]
  },
  {
   "cell_type": "code",
   "execution_count": 9,
   "metadata": {},
   "outputs": [
    {
     "data": {
      "text/plain": [
       "9"
      ]
     },
     "execution_count": 9,
     "metadata": {},
     "output_type": "execute_result"
    }
   ],
   "source": [
    "## Conocer largo de una cadena\n",
    "len('H     ola') # cadena de 4 caracteres"
   ]
  },
  {
   "cell_type": "code",
   "execution_count": 10,
   "metadata": {},
   "outputs": [
    {
     "data": {
      "text/plain": [
       "str"
      ]
     },
     "execution_count": 10,
     "metadata": {},
     "output_type": "execute_result"
    }
   ],
   "source": [
    "## Identificando el tipo de dato\n",
    "y = 'h'\n",
    "type(y)"
   ]
  },
  {
   "cell_type": "code",
   "execution_count": 11,
   "metadata": {},
   "outputs": [
    {
     "data": {
      "text/plain": [
       "'59'"
      ]
     },
     "execution_count": 11,
     "metadata": {},
     "output_type": "execute_result"
    }
   ],
   "source": [
    "## Convirtiendo a string\n",
    "str(59)"
   ]
  },
  {
   "cell_type": "markdown",
   "metadata": {},
   "source": [
    "### 2.2.Tipos de Datos Numéricos"
   ]
  },
  {
   "cell_type": "markdown",
   "metadata": {},
   "source": [
    "Representan valores numéricos.\n",
    "- Enteros (int): Representan números enteros\n",
    "- Decimales (float): Representan valores decimales"
   ]
  },
  {
   "cell_type": "code",
   "execution_count": 12,
   "metadata": {},
   "outputs": [
    {
     "data": {
      "text/plain": [
       "3"
      ]
     },
     "execution_count": 12,
     "metadata": {},
     "output_type": "execute_result"
    }
   ],
   "source": [
    "# Int -> Valores enteros\n",
    "3"
   ]
  },
  {
   "cell_type": "code",
   "execution_count": 13,
   "metadata": {},
   "outputs": [
    {
     "name": "stdout",
     "output_type": "stream",
     "text": [
      "5\n"
     ]
    }
   ],
   "source": [
    "x = 5\n",
    "print(x)"
   ]
  },
  {
   "cell_type": "code",
   "execution_count": 14,
   "metadata": {},
   "outputs": [
    {
     "data": {
      "text/plain": [
       "3.14"
      ]
     },
     "execution_count": 14,
     "metadata": {},
     "output_type": "execute_result"
    }
   ],
   "source": [
    "# Float -> Representan valores con coma decimal\n",
    "3.14"
   ]
  },
  {
   "cell_type": "code",
   "execution_count": 15,
   "metadata": {},
   "outputs": [
    {
     "name": "stdout",
     "output_type": "stream",
     "text": [
      "8.17\n"
     ]
    }
   ],
   "source": [
    "y = 8.17\n",
    "print(y)"
   ]
  },
  {
   "cell_type": "markdown",
   "metadata": {},
   "source": [
    "#### Identificando los tipos de datos"
   ]
  },
  {
   "cell_type": "code",
   "execution_count": 16,
   "metadata": {},
   "outputs": [
    {
     "data": {
      "text/plain": [
       "int"
      ]
     },
     "execution_count": 16,
     "metadata": {},
     "output_type": "execute_result"
    }
   ],
   "source": [
    "type(8)"
   ]
  },
  {
   "cell_type": "code",
   "execution_count": 17,
   "metadata": {},
   "outputs": [
    {
     "data": {
      "text/plain": [
       "float"
      ]
     },
     "execution_count": 17,
     "metadata": {},
     "output_type": "execute_result"
    }
   ],
   "source": [
    "p = 12.34234\n",
    "type(p)"
   ]
  },
  {
   "cell_type": "code",
   "execution_count": 18,
   "metadata": {},
   "outputs": [
    {
     "data": {
      "text/plain": [
       "str"
      ]
     },
     "execution_count": 18,
     "metadata": {},
     "output_type": "execute_result"
    }
   ],
   "source": [
    "type('3')"
   ]
  },
  {
   "cell_type": "markdown",
   "metadata": {},
   "source": [
    "#### Operaciones sobre números"
   ]
  },
  {
   "cell_type": "markdown",
   "metadata": {},
   "source": [
    "Representan el conjunto de operaciones básicas de tipo numéricas\n",
    "\n",
    "<img src='./img/operadores.png'>"
   ]
  },
  {
   "cell_type": "code",
   "execution_count": 19,
   "metadata": {},
   "outputs": [],
   "source": [
    "## Indistintamente si un numero es \"int\" or \"float\" es posible realizar operaciones sobre ellos\n",
    "numero_1 = 12\n",
    "numero_2 = 8.5"
   ]
  },
  {
   "cell_type": "code",
   "execution_count": 20,
   "metadata": {},
   "outputs": [
    {
     "name": "stdout",
     "output_type": "stream",
     "text": [
      "20.5\n",
      "3.5\n",
      "24\n",
      "6.0\n",
      "144\n"
     ]
    }
   ],
   "source": [
    "# sumando\n",
    "print(numero_1 + numero_2)\n",
    "\n",
    "# Restando \n",
    "print(numero_1 - numero_2)\n",
    "\n",
    "# Multiplicando: 12 * 2 = 24\n",
    "print(numero_1 * 2)\n",
    "\n",
    "# Diviendo : 12 / 2 = 6\n",
    "print(numero_1 / 2)\n",
    "\n",
    "# Potencia : 12 ** 2 = 144\n",
    "print(numero_1 ** 2)\n"
   ]
  },
  {
   "cell_type": "code",
   "execution_count": 21,
   "metadata": {},
   "outputs": [
    {
     "data": {
      "text/plain": [
       "17"
      ]
     },
     "execution_count": 21,
     "metadata": {},
     "output_type": "execute_result"
    }
   ],
   "source": [
    "# // -> representa el cociente de la división\n",
    "140//8"
   ]
  },
  {
   "cell_type": "code",
   "execution_count": 22,
   "metadata": {},
   "outputs": [
    {
     "data": {
      "text/plain": [
       "136"
      ]
     },
     "execution_count": 22,
     "metadata": {},
     "output_type": "execute_result"
    }
   ],
   "source": [
    "17 *8"
   ]
  },
  {
   "cell_type": "code",
   "execution_count": 23,
   "metadata": {},
   "outputs": [
    {
     "data": {
      "text/plain": [
       "4"
      ]
     },
     "execution_count": 23,
     "metadata": {},
     "output_type": "execute_result"
    }
   ],
   "source": [
    "# modulo -> representa el resto de la división\n",
    "140%8 "
   ]
  },
  {
   "cell_type": "code",
   "execution_count": 24,
   "metadata": {},
   "outputs": [],
   "source": [
    "# 140 = 17*8 + 4"
   ]
  },
  {
   "cell_type": "code",
   "execution_count": 25,
   "metadata": {},
   "outputs": [
    {
     "data": {
      "text/plain": [
       "1"
      ]
     },
     "execution_count": 25,
     "metadata": {},
     "output_type": "execute_result"
    }
   ],
   "source": [
    "## Módulo de un número -> Me brinda el residuo de la división entre dos numeros\n",
    "## 7 = 3 * 2 + 1 (1 es el residuo de la división)\n",
    "## a / b -> residuo = 0    (División Exacta | a es un múltiplo de b| a es divisible por b)\n",
    "\n",
    "7 %  3"
   ]
  },
  {
   "cell_type": "markdown",
   "metadata": {},
   "source": [
    "#### Otras Operaciones Básicas"
   ]
  },
  {
   "cell_type": "code",
   "execution_count": 26,
   "metadata": {},
   "outputs": [
    {
     "data": {
      "text/plain": [
       "3"
      ]
     },
     "execution_count": 26,
     "metadata": {},
     "output_type": "execute_result"
    }
   ],
   "source": [
    "int(3.55) # int() -> convierte otro tipo de dato a entero"
   ]
  },
  {
   "cell_type": "code",
   "execution_count": 27,
   "metadata": {},
   "outputs": [
    {
     "data": {
      "text/plain": [
       "3"
      ]
     },
     "execution_count": 27,
     "metadata": {},
     "output_type": "execute_result"
    }
   ],
   "source": [
    "int('3') # Convierto String a entero"
   ]
  },
  {
   "cell_type": "code",
   "execution_count": 28,
   "metadata": {},
   "outputs": [
    {
     "data": {
      "text/plain": [
       "3.0"
      ]
     },
     "execution_count": 28,
     "metadata": {},
     "output_type": "execute_result"
    }
   ],
   "source": [
    "float(3) # Convierto \"int\" a float"
   ]
  },
  {
   "cell_type": "code",
   "execution_count": 29,
   "metadata": {},
   "outputs": [
    {
     "data": {
      "text/plain": [
       "3.245"
      ]
     },
     "execution_count": 29,
     "metadata": {},
     "output_type": "execute_result"
    }
   ],
   "source": [
    "float('3.245') # Convierto \"String\" a float"
   ]
  },
  {
   "cell_type": "markdown",
   "metadata": {},
   "source": [
    "### Ejercicios"
   ]
  },
  {
   "cell_type": "markdown",
   "metadata": {},
   "source": [
    "1. Escribir un programa que calcule el área de un circulo de radio r= 6"
   ]
  },
  {
   "cell_type": "code",
   "execution_count": 36,
   "metadata": {},
   "outputs": [
    {
     "name": "stdout",
     "output_type": "stream",
     "text": [
      "área es\t: 113.0976\n"
     ]
    }
   ],
   "source": [
    "radio=6\n",
    "area=3.1416*radio**2\n",
    "print(\"área es\\t:\",area)"
   ]
  },
  {
   "cell_type": "code",
   "execution_count": 37,
   "metadata": {},
   "outputs": [
    {
     "name": "stdout",
     "output_type": "stream",
     "text": [
      "El área es:  113.09733552923255\n"
     ]
    }
   ],
   "source": [
    "import math\n",
    "\n",
    "PI = math.pi\n",
    "radio = 6\n",
    "\n",
    "area = PI * math.pow(radio, 2)\n",
    "print(\"El área es: \", area)"
   ]
  },
  {
   "cell_type": "markdown",
   "metadata": {},
   "source": [
    "2. Calcular la Fuerza en Newtons de un cuerpo con masa m = 4 kg y una aceleracion a= 3 m/s"
   ]
  },
  {
   "cell_type": "markdown",
   "metadata": {},
   "source": [
    "\\begin{equation}\n",
    "   F = m * a\n",
    "\\end{equation}"
   ]
  },
  {
   "cell_type": "code",
   "execution_count": 39,
   "metadata": {},
   "outputs": [
    {
     "data": {
      "text/plain": [
       "12"
      ]
     },
     "execution_count": 39,
     "metadata": {},
     "output_type": "execute_result"
    }
   ],
   "source": [
    "# datos de masa y aceleración\n",
    "masa = 4\n",
    "aceleracion = 3\n",
    "\n",
    "# calculo la fuerza\n",
    "fuerza = masa * aceleracion\n",
    "\n",
    "# imprimo el resultado\n",
    "fuerza"
   ]
  },
  {
   "cell_type": "markdown",
   "metadata": {},
   "source": [
    "### 2.3 Tipo de Datos Booleanos"
   ]
  },
  {
   "cell_type": "markdown",
   "metadata": {},
   "source": [
    "Definen un valor de Verdadero o Falso según sea el caso\n",
    "\n",
    "Se representa: \n",
    "- verdadero = True\n",
    "- falso = False\n"
   ]
  },
  {
   "cell_type": "code",
   "execution_count": 40,
   "metadata": {},
   "outputs": [
    {
     "data": {
      "text/plain": [
       "True"
      ]
     },
     "execution_count": 40,
     "metadata": {},
     "output_type": "execute_result"
    }
   ],
   "source": [
    "True"
   ]
  },
  {
   "cell_type": "code",
   "execution_count": 41,
   "metadata": {},
   "outputs": [
    {
     "data": {
      "text/plain": [
       "True"
      ]
     },
     "execution_count": 41,
     "metadata": {},
     "output_type": "execute_result"
    }
   ],
   "source": [
    "# cualquier número excepto el 0 se interpreta como verdadero\n",
    "bool(20)"
   ]
  },
  {
   "cell_type": "code",
   "execution_count": 42,
   "metadata": {},
   "outputs": [
    {
     "data": {
      "text/plain": [
       "False"
      ]
     },
     "execution_count": 42,
     "metadata": {},
     "output_type": "execute_result"
    }
   ],
   "source": [
    "False"
   ]
  },
  {
   "cell_type": "code",
   "execution_count": 43,
   "metadata": {},
   "outputs": [
    {
     "data": {
      "text/plain": [
       "False"
      ]
     },
     "execution_count": 43,
     "metadata": {},
     "output_type": "execute_result"
    }
   ],
   "source": [
    "bool(0)"
   ]
  },
  {
   "cell_type": "code",
   "execution_count": 44,
   "metadata": {},
   "outputs": [
    {
     "data": {
      "text/plain": [
       "bool"
      ]
     },
     "execution_count": 44,
     "metadata": {},
     "output_type": "execute_result"
    }
   ],
   "source": [
    "## Conociendo el tipo de dato\n",
    "type(True)"
   ]
  },
  {
   "cell_type": "markdown",
   "metadata": {},
   "source": [
    "#### 3.2 Operadores Relacionales (De comparación)"
   ]
  },
  {
   "cell_type": "markdown",
   "metadata": {},
   "source": [
    "Sirven para comparar dos valores, dependiendo del resultado de la comparación se devolverá:\n",
    "\n",
    "- Verdadero (True), si es cierta\n",
    "- Falso (False), si no es cierta"
   ]
  },
  {
   "cell_type": "markdown",
   "metadata": {},
   "source": [
    "<img src='https://programacionpython.files.wordpress.com/2008/07/signos1.jpg' align='left' width=\"400\" height=\"300\">"
   ]
  },
  {
   "cell_type": "code",
   "execution_count": 46,
   "metadata": {},
   "outputs": [
    {
     "data": {
      "text/plain": [
       "False"
      ]
     },
     "execution_count": 46,
     "metadata": {},
     "output_type": "execute_result"
    }
   ],
   "source": [
    "# Comparando dos valores \n",
    "a = 3\n",
    "b = 's'\n",
    "# Comparando a y b\n",
    "\n",
    "#  comparati el valor y el tipo de dato\n",
    "a == b"
   ]
  },
  {
   "cell_type": "code",
   "execution_count": 47,
   "metadata": {},
   "outputs": [
    {
     "data": {
      "text/plain": [
       "True"
      ]
     },
     "execution_count": 47,
     "metadata": {},
     "output_type": "execute_result"
    }
   ],
   "source": [
    "a != b"
   ]
  },
  {
   "cell_type": "code",
   "execution_count": 48,
   "metadata": {},
   "outputs": [
    {
     "ename": "TypeError",
     "evalue": "'>' not supported between instances of 'int' and 'str'",
     "output_type": "error",
     "traceback": [
      "\u001b[0;31m---------------------------------------------------------------------------\u001b[0m",
      "\u001b[0;31mTypeError\u001b[0m                                 Traceback (most recent call last)",
      "Cell \u001b[0;32mIn[48], line 3\u001b[0m\n\u001b[1;32m      1\u001b[0m \u001b[38;5;66;03m# b > c  -> no es comparable str and int\u001b[39;00m\n\u001b[0;32m----> 3\u001b[0m \u001b[43ma\u001b[49m\u001b[43m \u001b[49m\u001b[38;5;241;43m>\u001b[39;49m\u001b[43m \u001b[49m\u001b[43mb\u001b[49m\n",
      "\u001b[0;31mTypeError\u001b[0m: '>' not supported between instances of 'int' and 'str'"
     ]
    }
   ],
   "source": [
    "# b > c  -> no es comparable str and int\n",
    "\n",
    "a > b\n"
   ]
  },
  {
   "cell_type": "code",
   "execution_count": 49,
   "metadata": {},
   "outputs": [
    {
     "data": {
      "text/plain": [
       "False"
      ]
     },
     "execution_count": 49,
     "metadata": {},
     "output_type": "execute_result"
    }
   ],
   "source": [
    "c = 5\n",
    "# Mayor que\n",
    "a > c"
   ]
  },
  {
   "cell_type": "code",
   "execution_count": 51,
   "metadata": {},
   "outputs": [
    {
     "ename": "TypeError",
     "evalue": "'>' not supported between instances of 'int' and 'str'",
     "output_type": "error",
     "traceback": [
      "\u001b[0;31m---------------------------------------------------------------------------\u001b[0m",
      "\u001b[0;31mTypeError\u001b[0m                                 Traceback (most recent call last)",
      "Cell \u001b[0;32mIn[51], line 1\u001b[0m\n\u001b[0;32m----> 1\u001b[0m \u001b[38;5;241;43m3\u001b[39;49m\u001b[43m \u001b[49m\u001b[38;5;241;43m>\u001b[39;49m\u001b[43m \u001b[49m\u001b[38;5;124;43m'\u001b[39;49m\u001b[38;5;124;43m3\u001b[39;49m\u001b[38;5;124;43m'\u001b[39;49m\n",
      "\u001b[0;31mTypeError\u001b[0m: '>' not supported between instances of 'int' and 'str'"
     ]
    }
   ],
   "source": [
    " 3 > '3'"
   ]
  },
  {
   "cell_type": "markdown",
   "metadata": {},
   "source": [
    "**Cuidado:**\n",
    "\n",
    "Tener en cuenta lo siguiente para implementar sus lógicas"
   ]
  },
  {
   "cell_type": "markdown",
   "metadata": {},
   "source": [
    "<img src='https://docs.hektorprofe.net/cdn/images/figura_1.png'>"
   ]
  },
  {
   "cell_type": "markdown",
   "metadata": {},
   "source": [
    "#### 3.3 Operadores Lógicos"
   ]
  },
  {
   "cell_type": "markdown",
   "metadata": {},
   "source": [
    "Encontramos 3 operadores especiales para realizar operaciones lógicas. Normalmente se utilizan para agrupar, excluir y negar expresiones. Puede ayudar echar un vistazo a esta explicación sobre las tablas de la verdad:\n",
    "\n",
    "- Not\n",
    "- And\n",
    "- Or"
   ]
  },
  {
   "cell_type": "markdown",
   "metadata": {},
   "source": [
    "<img src='./img/logicos.png' style=\"vertical-align:middle\" >"
   ]
  },
  {
   "cell_type": "code",
   "execution_count": 52,
   "metadata": {},
   "outputs": [
    {
     "data": {
      "text/plain": [
       "True"
      ]
     },
     "execution_count": 52,
     "metadata": {},
     "output_type": "execute_result"
    }
   ],
   "source": [
    "# Hallando el valor de verdad de la siguiente expresión\n",
    "(9 < 12) and (12 > 7) "
   ]
  },
  {
   "cell_type": "markdown",
   "metadata": {},
   "source": [
    "### Ejercicios"
   ]
  },
  {
   "cell_type": "markdown",
   "metadata": {},
   "source": [
    "1. Expresión a evaluar: \n",
    "        \n",
    "        2 > p\n",
    "para el valor p = 5"
   ]
  },
  {
   "cell_type": "code",
   "execution_count": 65,
   "metadata": {},
   "outputs": [
    {
     "name": "stdout",
     "output_type": "stream",
     "text": [
      "False\n"
     ]
    }
   ],
   "source": [
    "p = 5\n",
    "Resultado = ( 2> p )  \n",
    "print(Resultado)"
   ]
  },
  {
   "cell_type": "markdown",
   "metadata": {},
   "source": [
    "2. Expresión a evaluar: \n",
    "\n",
    "       8 == b and not b < 0\n",
    "\n",
    "para el valor b = 0"
   ]
  },
  {
   "cell_type": "code",
   "execution_count": 58,
   "metadata": {},
   "outputs": [
    {
     "name": "stdout",
     "output_type": "stream",
     "text": [
      "False\n"
     ]
    }
   ],
   "source": [
    "b = 0\n",
    "respuesta = (8 == b and not b < 0)\n",
    "print(respuesta)"
   ]
  },
  {
   "cell_type": "markdown",
   "metadata": {},
   "source": [
    "# Notas Adicionales"
   ]
  },
  {
   "cell_type": "code",
   "execution_count": null,
   "metadata": {},
   "outputs": [],
   "source": [
    "PI = 3.14 # constantes\n",
    "\n",
    "# variables\n",
    "# ---------------------\n",
    "#  se escriben en minuscula, no se colocan signos especiales(!,#,*)\n",
    "#  no se deben emplear palabras reservadas\n",
    "\n",
    "# bool = 4\n",
    "\n",
    "# variable1 = 2    SI\n",
    "# variable_1 = 1   SI \n",
    "# variable,1 = 2 NO\n",
    "\n",
    "# print = 10  NO   'print' palabra reservada\n"
   ]
  },
  {
   "cell_type": "markdown",
   "metadata": {},
   "source": [
    "#### Funcion Type() \n",
    "Nos ayudará a conocer el tipo de dato de la variable"
   ]
  },
  {
   "cell_type": "code",
   "execution_count": 68,
   "metadata": {},
   "outputs": [
    {
     "data": {
      "text/plain": [
       "str"
      ]
     },
     "execution_count": 68,
     "metadata": {},
     "output_type": "execute_result"
    }
   ],
   "source": [
    "# Conociendo el tipo de dato de la variable número\n",
    "type('numero')"
   ]
  },
  {
   "cell_type": "code",
   "execution_count": 67,
   "metadata": {},
   "outputs": [
    {
     "data": {
      "text/plain": [
       "float"
      ]
     },
     "execution_count": 67,
     "metadata": {},
     "output_type": "execute_result"
    }
   ],
   "source": [
    "# Pasando un numero como texto\n",
    "numero_texto ='3.14'\n",
    "numero_texto = float(numero_texto) # reasingacion de variable\n",
    "type(numero_texto)"
   ]
  },
  {
   "cell_type": "code",
   "execution_count": null,
   "metadata": {},
   "outputs": [],
   "source": []
  },
  {
   "cell_type": "markdown",
   "metadata": {},
   "source": [
    "#### Operadores de Asignación"
   ]
  },
  {
   "cell_type": "markdown",
   "metadata": {},
   "source": [
    "Permiten la asignación de nuevos valores a las variables de forma rápida"
   ]
  },
  {
   "cell_type": "markdown",
   "metadata": {},
   "source": [
    "<b>Suma en asignación</b>\n",
    "<p>Nos ayuda sumar un número dado a la variable de forma rápida </p>\n"
   ]
  },
  {
   "cell_type": "code",
   "execution_count": 69,
   "metadata": {},
   "outputs": [
    {
     "data": {
      "text/plain": [
       "7"
      ]
     },
     "execution_count": 69,
     "metadata": {},
     "output_type": "execute_result"
    }
   ],
   "source": [
    "# Defino a como 5\n",
    "a = 5 # 1. asigno 5 a la variable 'a'\n",
    "\n",
    "a = a + 2\n",
    "a"
   ]
  },
  {
   "cell_type": "code",
   "execution_count": 70,
   "metadata": {},
   "outputs": [
    {
     "name": "stdout",
     "output_type": "stream",
     "text": [
      "9\n"
     ]
    }
   ],
   "source": [
    "a = a + 2 # 2. El valor de 'a' va a ser 'a' + 2 (5 + 2) -> 7\n",
    "print(a) # 3. Imprimo el valor de 'a' = 7"
   ]
  },
  {
   "cell_type": "code",
   "execution_count": 71,
   "metadata": {},
   "outputs": [],
   "source": [
    "# Aumento dos a la variable a (a = a+2)\n",
    "a += 2"
   ]
  },
  {
   "cell_type": "code",
   "execution_count": 72,
   "metadata": {},
   "outputs": [
    {
     "data": {
      "text/plain": [
       "11"
      ]
     },
     "execution_count": 72,
     "metadata": {},
     "output_type": "execute_result"
    }
   ],
   "source": [
    "a"
   ]
  },
  {
   "cell_type": "code",
   "execution_count": 73,
   "metadata": {},
   "outputs": [
    {
     "data": {
      "text/plain": [
       "110"
      ]
     },
     "execution_count": 73,
     "metadata": {},
     "output_type": "execute_result"
    }
   ],
   "source": [
    "# a = a * 10\n",
    "a *= 10\n",
    "a"
   ]
  },
  {
   "cell_type": "code",
   "execution_count": 74,
   "metadata": {},
   "outputs": [
    {
     "data": {
      "text/plain": [
       "22.0"
      ]
     },
     "execution_count": 74,
     "metadata": {},
     "output_type": "execute_result"
    }
   ],
   "source": [
    "a /= 5\n",
    "a"
   ]
  },
  {
   "cell_type": "code",
   "execution_count": null,
   "metadata": {},
   "outputs": [],
   "source": [
    "'PC1'"
   ]
  },
  {
   "cell_type": "code",
   "execution_count": null,
   "metadata": {},
   "outputs": [],
   "source": [
    "'Variables'"
   ]
  },
  {
   "cell_type": "code",
   "execution_count": 9,
   "metadata": {},
   "outputs": [
    {
     "name": "stdout",
     "output_type": "stream",
     "text": [
      "¡Hola Luis Rojas!\n"
     ]
    }
   ],
   "source": [
    "# 1)Escribir un programa que solicite su nombre de usuario por consola y después de que el usuario lo \n",
    "#lo introduzca muestre por pantalla la cadena “¡Hola <nombre > !”, donde es el nombre que el usuario haya introducido \n",
    "\n",
    "nombre = input(\"Introduce tu nombre: \")\n",
    "print(\"¡Hola \" + nombre + \"!\")\n"
   ]
  },
  {
   "cell_type": "code",
   "execution_count": 11,
   "metadata": {},
   "outputs": [
    {
     "name": "stdout",
     "output_type": "stream",
     "text": [
      "Valor de propina: $ 22.5\n"
     ]
    }
   ],
   "source": [
    "#2) En los Estados Unidos, se acostumbra a dejar una propina a su mesero después de cenar en un restaurante, generalmente una \n",
    "# restaurante cantidad igual al 15% o más del costo de su comida. Escriba un programa que pregunte al usuario cuánto\n",
    "# fue su consumo y que porcentaje de propina desea dejar al mesero. Su programa debe devolver la cantidad de dinero a dejar \n",
    "#como propina\n",
    "\n",
    "comida =float(input(\"Costo de comida: $\"))\n",
    "porcentaje_propina=float(input(\"Porcentaje de propina: \"))\n",
    "valor_propina=(porcentaje_propina*comida)/100\n",
    "print(\"Valor de propina: $\", valor_propina)\n",
    "#Se hizo la prueba con Comida = $ 150 , Porcentaje de propina =15%"
   ]
  },
  {
   "cell_type": "code",
   "execution_count": 12,
   "metadata": {},
   "outputs": [
    {
     "name": "stdout",
     "output_type": "stream",
     "text": [
      "El peso total del paquete es 2990\n"
     ]
    }
   ],
   "source": [
    "#3)Una juguetería tiene mucho éxito en dos de sus productos: payasos y muñecas. Suele hacer venta por correo y la empresa \n",
    "# de logística les cobra por peso de cada paquete así que deben calcular el peso de los payasos y muñecas que saldrán en \n",
    "# cada paquete a demanda. Cada payaso pesa 112 g y cada muñeca 75 g. Escribir un programa que lea el número de payasos \n",
    "# y muñecas vendidos en el último pedido y calcule el peso total del paquete que será enviado.\n",
    "\n",
    "#Dando valor a cada dato en gramos\n",
    "peso_payaso = 112\n",
    "peso_muñeca = 75\n",
    "payasos=int(input(\"Ingresar número de payasos a enviar: \"))\n",
    "muñecas=int(input(\"Ingresar el número de muñecas a enviar: \"))\n",
    "peso_total = peso_payaso*payasos + peso_muñeca*muñecas\n",
    "print(\"El peso total del paquete es \" + str(peso_total))\n",
    "#Se hizo la prueba con 20 payasos y 10 muñecas"
   ]
  },
  {
   "cell_type": "code",
   "execution_count": 16,
   "metadata": {},
   "outputs": [
    {
     "name": "stdout",
     "output_type": "stream",
     "text": [
      "La suma de los primeros números enteros desde 1 hasta 20 es 210.0\n"
     ]
    }
   ],
   "source": [
    "#4) Escribir un programa que lea un entero positivo, N, introducido por el usuario y después muestre en pantalla la suma de\n",
    "#  todos los enteros desde 1 hasta N. La suma de los N primeros enteros positivos puede ser calculada de la siguiente forma:\n",
    "#n(n+1)/2\n",
    "\n",
    "N = int(input(\"Introduce un número entero: \"))\n",
    "suma = N*(N+1)/2\n",
    "print(\"La suma de los primeros números enteros desde 1 hasta \" + str(N) + \" es \" + str(suma))\n",
    "#Se hizo la prueba con N = 20"
   ]
  },
  {
   "cell_type": "code",
   "execution_count": null,
   "metadata": {},
   "outputs": [],
   "source": [
    "'Condicionales'"
   ]
  },
  {
   "cell_type": "code",
   "execution_count": 5,
   "metadata": {},
   "outputs": [
    {
     "data": {
      "text/plain": [
       "True"
      ]
     },
     "execution_count": 5,
     "metadata": {},
     "output_type": "execute_result"
    }
   ],
   "source": [
    "#5) Escribir un programa que solicite al usuario que ingrese cuántos shows musicales ha visto en el último año y almacene\n",
    "# ese número en una variable. A continuación, mostrar en pantalla un valor de verdad (True o False - tipo de datos booleanos) \n",
    "# que indique si el usuario ha visto más de 3 shows.\n",
    "\n",
    "Shows_vistos_en_el_último_año = 6\n",
    "\n",
    "a = 3\n",
    "\n",
    "Shows_vistos_en_el_último_año > a"
   ]
  },
  {
   "cell_type": "code",
   "execution_count": 7,
   "metadata": {},
   "outputs": [
    {
     "name": "stdout",
     "output_type": "stream",
     "text": [
      "El precio de la entrada es $ 10\n"
     ]
    }
   ],
   "source": [
    "# 6) Escribir un programa para una empresa que tiene salas de juegos para todas las edades y quiere calcular de forma\n",
    "# forma automática el precio que debe cobrar a sus clientes por entrar. El programa debe preguntar al usuario la edad del \n",
    "# cliente y mostrar el precio de la entrada. Si el cliente es menor de 4 años puede entrar gratis, \n",
    "# si tiene entre 4 y 18 años debe pagar $5 y si es mayor de 18 años, S10.\n",
    "\n",
    "edad = int(input(\"Ingresa tu edad: \"))\n",
    "# Decisión del precio en función de la edad\n",
    "if edad < 4:\n",
    "    precio = 0\n",
    "elif edad <= 18:\n",
    "    precio = 5\n",
    "else:\n",
    "    precio = 10\n",
    "# Mostrar precio\n",
    "print(\"El precio de la entrada es\", \"$\" , precio)\n",
    "\n",
    "# Se hizo la prueba con 19 años \n"
   ]
  },
  {
   "cell_type": "code",
   "execution_count": 9,
   "metadata": {},
   "outputs": [
    {
     "name": "stdout",
     "output_type": "stream",
     "text": [
      "¿Qué operación quieres hacer? \n",
      "1) Sumar los dos números\n",
      "2) Restar los dos números\n",
      "3) Multiplicar los dos números\n",
      "La resta de 20.0 - 10.0 es 10.0\n"
     ]
    }
   ],
   "source": [
    "# 7) Realiza un programa que lea dos números por teclado y permite elegir entre 3 opciones en un menú:\n",
    "# - Mostrar una suma de los dos números \n",
    "# - Mostrar una resta de los dos números (el primero menos el segundo) \n",
    "# - Mostrar una multiplicación de los dos números \n",
    "# - En caso de introducir una opción inválida, el programa informará de que no es correcta\n",
    "\n",
    "# Solución:\n",
    "#  Sean las variables n1 y n2\n",
    "\n",
    "n1 = float(input(\"Introduce un número: \") )\n",
    "n2 = float(input(\"Introduce otro número: \") )\n",
    "opción = 0        \n",
    "print(\"¿Qué operación quieres hacer? \\n1) Sumar los dos números\\n2) Restar los dos números\\n3) Multiplicar los dos números\")\n",
    "opción = int(input(\"Introduce un número: \") )     \n",
    "\n",
    "if opción == 1:\n",
    "    print(\"La suma de\",n1,\"+\",n2,\"es\",n1+n2)\n",
    "elif opción == 2:\n",
    "    print(\"La resta de\",n1,\"-\",n2,\"es\",n1-n2)\n",
    "elif opción == 3:\n",
    "    print(\"El producto de\",n1,\"*\",n2,\"es\",n1*n2)\n",
    "else:\n",
    "    print(\"Opción incorrecta\")\n"
   ]
  },
  {
   "cell_type": "code",
   "execution_count": null,
   "metadata": {},
   "outputs": [],
   "source": [
    "# 8) Supongamos que estás en un país donde se acostumbra a desayunar entre las 7:00 y las 8:00, almorzar entre las\n",
    "# 12:00 y las 13:00 y cenar entre las 18:00 y las 19:00. Implemente un programa que solicite al usuario una hora \n",
    "# y le indique si es la hora del desayuno, la hora del almuerzo o la hora de la cena. Si no es hora de comer, \n",
    "# no envíes nada. Suponga que la entrada del usuario se formatea en formato de 24 horas como #:## o ##:##. \n",
    "# Y suponga que el rango de tiempo de cada comida es inclusivo. Por ejemplo, ya sean las 7:00, las 7:01, las 7:59 o las 8:00, \n",
    "# o en cualquier momento intermedio, es hora de desayunar. \n"
   ]
  },
  {
   "cell_type": "code",
   "execution_count": 11,
   "metadata": {},
   "outputs": [
    {
     "name": "stdout",
     "output_type": "stream",
     "text": [
      "['papa', 'a', 'dia', 'buen', 'Di']\n"
     ]
    }
   ],
   "source": [
    "# 9)Escriba un programa que, dada una lista, devuelve una nueva lista cuyo contenido sea igual a la original pero invertida\n",
    "# Así, dada la lista ['Di', 'buen', 'día', 'a', 'papa'], deberá devolver ['papa', 'a','día', 'buen', 'Di'].\n",
    "\n",
    "\n",
    "lista=['Di', 'buen', 'dia', 'a', 'papa']\n",
    "print(lista[::-1])\n"
   ]
  },
  {
   "cell_type": "code",
   "execution_count": 46,
   "metadata": {},
   "outputs": [
    {
     "name": "stdout",
     "output_type": "stream",
     "text": [
      "['Verde', 'Negro', 'Blanco']\n"
     ]
    }
   ],
   "source": [
    "#10) Escriba un programa para imprimir una lista específica después de eliminar los elementos que se encuentran en la \n",
    "# posición 0, 4 y 5.\n",
    "# lista de muestra: ['Rojo', 'Verde', 'Blanco', 'Negro', 'Rosa', 'Amarillo']\n",
    "# Resultado esperado: ['Verde', 'Blanco', 'Negro']\n",
    "\n",
    "lista1=['Rojo', 'Verde', 'Blanco', 'Negro', 'Rosa', 'Amarillo']  #Lista de muestra\n",
    "lista2=[]                                                        #Resultado esperado\n",
    "\n",
    "del lista1[0]\n",
    "del lista1[3]\n",
    "del lista1[3]\n",
    "lista2=lista1[1:3]\n",
    "for i in range(len(lista1)):\n",
    "    if lista1 [i] not in lista2:\n",
    "     lista2.append(lista1[i])\n",
    "     print(lista2[::-1])\n"
   ]
  },
  {
   "cell_type": "code",
   "execution_count": 17,
   "metadata": {},
   "outputs": [
    {
     "name": "stdout",
     "output_type": "stream",
     "text": [
      "[1, 2, 3, 4, 5]\n"
     ]
    }
   ],
   "source": [
    "# 11) Escriba un programa Python que se encargue de eliminar los elementos duplicados de la siguiente lista. Su programa \n",
    "# debe retornar otra lista sin los duplicados.\n",
    "# Lista original: [1, 1, 2, 3, 4, 4, 5, 1]\n",
    "# Lista procesada: [1, 2, 3, 4,, 5]\n",
    "\n",
    "lista1=[1, 1, 2, 3, 4, 4, 5, 1]  #Original\n",
    "lista2=[]                        #Procesada\n",
    "\n",
    "lista2=lista1[1:5]\n",
    "for i in range(len(lista1)):\n",
    "    if lista1 [i] not in lista2:\n",
    "     lista2.append(lista1[i])\n",
    "     print(lista2)\n"
   ]
  },
  {
   "cell_type": "code",
   "execution_count": null,
   "metadata": {},
   "outputs": [],
   "source": [
    "# 12)Implemente un programa que solicite al usuario el nombre de un archivo y luego genere el tipo de archivo MIME correspondiente.\n",
    "# si el nombre del archivo termina en cualquiera de estos sufijos (sin importar el uso de mayúsculas y minúsculas): \n",
    "# - .gif \n",
    "# - .jpg\n",
    "# - .jpeg\n",
    "# - .png\n",
    "# - .pdf\n",
    "# - .txt\n",
    "# - .zip \n",
    "# Si el nombre del archivo termina con algún otro sufijo que no se encuentra en la lista o no tiene ningún \n",
    "# sufijo, en su lugar su programa deberá devolver application/octet-stream.\n",
    "\n",
    "\n"
   ]
  }
 ],
 "metadata": {
  "interpreter": {
   "hash": "60ed20e32fccb190e74c562e5b1355c75b8bbe60ad6a5cbb503de8aaff5a83ef"
  },
  "kernelspec": {
   "display_name": "Python 3 (ipykernel)",
   "language": "python",
   "name": "python3"
  },
  "language_info": {
   "codemirror_mode": {
    "name": "ipython",
    "version": 3
   },
   "file_extension": ".py",
   "mimetype": "text/x-python",
   "name": "python",
   "nbconvert_exporter": "python",
   "pygments_lexer": "ipython3",
   "version": "3.9.19"
  }
 },
 "nbformat": 4,
 "nbformat_minor": 4
}
